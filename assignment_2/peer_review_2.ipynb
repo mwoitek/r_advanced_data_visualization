{
 "cells": [
  {
   "cell_type": "markdown",
   "metadata": {},
   "source": [
    "# Spatial Figures Peer Review\n",
    "\n",
    "## PUT YOUR NAME HERE: Marcio Woitek"
   ]
  },
  {
   "cell_type": "code",
   "execution_count": null,
   "metadata": {
    "name": "setup",
    "tags": [
     "remove_cell"
    ]
   },
   "outputs": [],
   "source": [
    "suppressPackageStartupMessages(library(tidyverse))\n",
    "suppressPackageStartupMessages(library(maps))\n",
    "suppressPackageStartupMessages(library(sf))\n",
    "suppressPackageStartupMessages(library(rnaturalearth))\n",
    "suppressPackageStartupMessages(library(rnaturalearthdata))\n",
    "suppressPackageStartupMessages(library(rgeos))"
   ]
  },
  {
   "cell_type": "markdown",
   "metadata": {},
   "source": [
    "## Problem 1\n",
    "\n",
    "Create the figure using the data included in the R Markdown file."
   ]
  },
  {
   "cell_type": "code",
   "execution_count": null,
   "metadata": {
    "name": "problem_1_data",
    "tags": [
     "remove_cell"
    ]
   },
   "outputs": [],
   "source": [
    "# Make some data for painting the map:\n",
    "my_world_map <- map_data(\"world\")\n",
    "countries <- unique(my_world_map$region)\n",
    "set.seed(987)\n",
    "some_data_values <- data.frame(\n",
    "    \"Region\" = countries,\n",
    "    \"Score\" = runif(252, 0, 100)\n",
    ")"
   ]
  },
  {
   "cell_type": "code",
   "execution_count": null,
   "metadata": {
    "message": false,
    "name": "problem_1",
    "tags": [
     "remove_input"
    ]
   },
   "outputs": [],
   "source": [
    "# scale_fill_distiller(palette = 5)\n",
    "# Use left_join to combine the data_values to the world map data in\n",
    "# my_world_map."
   ]
  },
  {
   "cell_type": "markdown",
   "metadata": {},
   "source": [
    "## Problem 2\n",
    "\n",
    "Create the figure using the data included in the R Markdown file."
   ]
  },
  {
   "cell_type": "code",
   "execution_count": null,
   "metadata": {
    "name": "problem_2_data",
    "tags": [
     "remove_cell"
    ]
   },
   "outputs": [],
   "source": [
    "set.seed(15)\n",
    "Measurement <- rnorm(32, 50, 1)"
   ]
  },
  {
   "cell_type": "code",
   "execution_count": null,
   "metadata": {
    "message": false,
    "name": "problem_2",
    "tags": [
     "remove_input"
    ]
   },
   "outputs": [],
   "source": [
    "# Get just the maps of Costa Rica, Panama and Nicaragua.\n",
    "# Put in points only for cities with a population of greater than 40,000. This\n",
    "# should leave you with 32 cities.\n",
    "# Use add_column to attach the \"Measurement\" variable to your data, and set\n",
    "# that to the color aesthetic when you draw the points.\n",
    "# Set the colors for the city points with scale_color_distiller(palette = 7).\n",
    "# Set the size of all points to 5."
   ]
  },
  {
   "cell_type": "markdown",
   "metadata": {},
   "source": [
    "## Problem 3\n",
    "\n",
    "Create the figure using the data included in the R Markdown file."
   ]
  },
  {
   "cell_type": "code",
   "execution_count": null,
   "metadata": {
    "name": "problem_3_data",
    "tags": [
     "remove_cell"
    ]
   },
   "outputs": [],
   "source": [
    "s_america <- ne_countries(\n",
    "    scale = \"medium\",\n",
    "    continent = \"south america\",\n",
    "    returnclass = \"sf\"\n",
    ")"
   ]
  },
  {
   "cell_type": "code",
   "execution_count": null,
   "metadata": {
    "name": "problem_3",
    "tags": [
     "remove_input"
    ]
   },
   "outputs": [],
   "source": [
    "# The s_america object created in the chunk above is a simple features object\n",
    "# with many columns. Identify the correct column based on the solution figure\n",
    "# and use it to color in the choropleth.\n",
    "# scale_fill_distiller(palette = 10)"
   ]
  }
 ],
 "metadata": {
  "jupytext": {
   "formats": "ipynb,R:percent,Rmd"
  },
  "kernelspec": {
   "display_name": "R",
   "language": "R",
   "name": "ir"
  },
  "language_info": {
   "codemirror_mode": "r",
   "file_extension": ".r",
   "mimetype": "text/x-r-source",
   "name": "R",
   "pygments_lexer": "r",
   "version": "4.0.3"
  }
 },
 "nbformat": 4,
 "nbformat_minor": 4
}
