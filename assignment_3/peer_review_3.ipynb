{
 "cells": [
  {
   "cell_type": "markdown",
   "metadata": {},
   "source": [
    "# Animations and Interactivity\n",
    "\n",
    "## PUT YOUR NAME HERE: Marcio Woitek"
   ]
  },
  {
   "cell_type": "code",
   "execution_count": null,
   "metadata": {
    "name": "setup",
    "tags": [
     "remove_cell"
    ]
   },
   "outputs": [],
   "source": [
    "library(tidyverse)\n",
    "library(gganimate)\n",
    "library(gifski)\n",
    "library(plotly)"
   ]
  },
  {
   "cell_type": "markdown",
   "metadata": {},
   "source": [
    "## Problem 1"
   ]
  },
  {
   "cell_type": "code",
   "execution_count": null,
   "metadata": {
    "name": "problem_1_data",
    "tags": [
     "remove_cell"
    ]
   },
   "outputs": [],
   "source": [
    "Category <- c(\"Alpha\", \"Beta\", \"Zeta\")\n",
    "City <- c(\"Hong Kong\", \"London\", \"Nairobi\")\n",
    "my_dat <- expand_grid(Category, City)\n",
    "set.seed(84684)\n",
    "my_dat$Value <- sample(1:10, 9, replace = T)"
   ]
  },
  {
   "cell_type": "code",
   "execution_count": null,
   "metadata": {
    "message": false,
    "name": "problem_1",
    "tags": [
     "remove_input"
    ]
   },
   "outputs": [],
   "source": [
    "# Put your ggplot figure with the appropriate gganimate functions here."
   ]
  },
  {
   "cell_type": "markdown",
   "metadata": {},
   "source": [
    "## Problem 2"
   ]
  },
  {
   "cell_type": "code",
   "execution_count": null,
   "metadata": {
    "name": "problem_2_data",
    "tags": [
     "remove_cell"
    ]
   },
   "outputs": [],
   "source": [
    "Response <- c(\"Energize\", \"Amazing\", \"Great\")\n",
    "set.seed(9819)\n",
    "Energize <- tibble(\n",
    "    Company = rep(\"Energize\", 100),\n",
    "    Output = rnorm(100, 50, 20)\n",
    ")\n",
    "set.seed(9819)\n",
    "Amazing <- tibble(\n",
    "    Company = rep(\"Amazing\", 100),\n",
    "    Output = rnorm(100, 50, 10)\n",
    ")\n",
    "set.seed(9819)\n",
    "Great <- tibble(\n",
    "    Company = rep(\"Great\", 100),\n",
    "    Output = rnorm(100, 40, 5)\n",
    ")\n",
    "my_dat <- bind_rows(Energize, Amazing, Great)"
   ]
  },
  {
   "cell_type": "code",
   "execution_count": null,
   "metadata": {
    "message": false,
    "name": "problem_2",
    "tags": [
     "remove_input"
    ],
    "warning": false
   },
   "outputs": [],
   "source": [
    "# Put your ggplotly() figure here."
   ]
  },
  {
   "cell_type": "markdown",
   "metadata": {},
   "source": [
    "## Problem 3"
   ]
  },
  {
   "cell_type": "code",
   "execution_count": null,
   "metadata": {
    "message": false,
    "name": "problem_3_data",
    "tags": [
     "remove_input"
    ],
    "warning": false
   },
   "outputs": [],
   "source": [
    "Category <- seq(from = 1, to = 10)\n",
    "Time <- seq(from = 1, to = 10)\n",
    "dat3 <- expand_grid(Category, Time)\n",
    "set.seed(78957)\n",
    "dat3$Quantity <- runif(100, 0, 10)"
   ]
  },
  {
   "cell_type": "code",
   "execution_count": null,
   "metadata": {
    "message": false,
    "name": "problem_3",
    "tags": [
     "remove_input"
    ],
    "warning": false
   },
   "outputs": [],
   "source": [
    "# Put your ggplotly() figure here."
   ]
  }
 ],
 "metadata": {
  "jupytext": {
   "formats": "ipynb,R:percent,Rmd"
  },
  "kernelspec": {
   "display_name": "R",
   "language": "R",
   "name": "ir"
  },
  "language_info": {
   "codemirror_mode": "r",
   "file_extension": ".r",
   "mimetype": "text/x-r-source",
   "name": "R",
   "pygments_lexer": "r",
   "version": "4.0.3"
  }
 },
 "nbformat": 4,
 "nbformat_minor": 4
}
