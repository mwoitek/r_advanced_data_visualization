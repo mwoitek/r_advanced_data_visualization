{
 "cells": [
  {
   "cell_type": "markdown",
   "metadata": {},
   "source": [
    "# More `ggplot` Figures Peer Review\n",
    "\n",
    "## PUT YOUR NAME HERE: Marcio Woitek"
   ]
  },
  {
   "cell_type": "code",
   "execution_count": null,
   "metadata": {
    "name": "setup",
    "tags": [
     "remove_cell"
    ]
   },
   "outputs": [],
   "source": [
    "library(tidyverse)\n",
    "library(RColorBrewer)"
   ]
  },
  {
   "cell_type": "markdown",
   "metadata": {},
   "source": [
    "## Problem 1\n",
    "\n",
    "Create the figure in the solution for Problem 1 using the data included in the\n",
    "R Markdown file."
   ]
  },
  {
   "cell_type": "code",
   "execution_count": null,
   "metadata": {
    "name": "problem_1_data",
    "tags": [
     "remove_cell"
    ]
   },
   "outputs": [],
   "source": [
    "set.seed(12345)\n",
    "var1 <- runif(50, 0, 10)\n",
    "\n",
    "set.seed(12345)\n",
    "var2 <- var1 + rnorm(50, 5, 2)\n",
    "\n",
    "set.seed(12345)\n",
    "var3 <- var1 * (-rnorm(50, 1, .2))\n",
    "\n",
    "dat1 <- tibble(var1, var2, var3)"
   ]
  },
  {
   "cell_type": "code",
   "execution_count": null,
   "metadata": {
    "message": false,
    "name": "problem_1",
    "tags": [
     "remove_input"
    ]
   },
   "outputs": [],
   "source": []
  },
  {
   "cell_type": "markdown",
   "metadata": {},
   "source": [
    "## Problem 2\n",
    "\n",
    "Create the figure in the solution for Problem 2 using the data included in the\n",
    "R Markdown file."
   ]
  },
  {
   "cell_type": "code",
   "execution_count": null,
   "metadata": {
    "name": "problem_2_data",
    "tags": [
     "remove_cell"
    ]
   },
   "outputs": [],
   "source": [
    "set.seed(10)\n",
    "var1 <- runif(50, 0, 10)\n",
    "\n",
    "set.seed(10)\n",
    "var2 <- var1 + rnorm(50, 5, 2)\n",
    "\n",
    "set.seed(10)\n",
    "var3 <- var1 * (-rnorm(50, 1, .2))\n",
    "\n",
    "dat2 <- tibble(var1, var2, var3)"
   ]
  },
  {
   "cell_type": "code",
   "execution_count": null,
   "metadata": {
    "message": false,
    "name": "problem_2",
    "tags": [
     "remove_input"
    ]
   },
   "outputs": [],
   "source": []
  },
  {
   "cell_type": "markdown",
   "metadata": {},
   "source": [
    "## Problem 3\n",
    "\n",
    "Create the figure in the solution for Problem 3 using the data included in the\n",
    "R Markdown file."
   ]
  },
  {
   "cell_type": "code",
   "execution_count": null,
   "metadata": {
    "name": "problem_3_data",
    "tags": [
     "remove_cell"
    ]
   },
   "outputs": [],
   "source": [
    "set.seed(12)\n",
    "var1 <- runif(50, 0, 10)\n",
    "\n",
    "set.seed(12)\n",
    "var2 <- var1 + rnorm(50, 5, 2)\n",
    "\n",
    "set.seed(12)\n",
    "var3 <- var1 * (-rnorm(50, 1, .2))\n",
    "\n",
    "dat3 <- tibble(var1, var2, var3)"
   ]
  },
  {
   "cell_type": "code",
   "execution_count": null,
   "metadata": {
    "name": "problem_3",
    "tags": [
     "remove_input"
    ]
   },
   "outputs": [],
   "source": []
  },
  {
   "cell_type": "markdown",
   "metadata": {},
   "source": [
    "## Problem 4\n",
    "\n",
    "Create the figure in the solution for Problem 4 using the data included in the\n",
    "R Markdown file."
   ]
  },
  {
   "cell_type": "code",
   "execution_count": null,
   "metadata": {
    "name": "problem_4_data",
    "tags": [
     "remove_cell"
    ]
   },
   "outputs": [],
   "source": [
    "set.seed(5678)\n",
    "var1 <- rnorm(10, 25, 5)\n",
    "\n",
    "names <- letters[1:10]\n",
    "\n",
    "dat4 <- tibble(names, var1)"
   ]
  },
  {
   "cell_type": "code",
   "execution_count": null,
   "metadata": {
    "name": "problem_4",
    "tags": [
     "remove_input"
    ]
   },
   "outputs": [],
   "source": []
  },
  {
   "cell_type": "markdown",
   "metadata": {},
   "source": [
    "## Problem 5\n",
    "\n",
    "Create the figure in the solution for Problem 5 using the data included in the\n",
    "R Markdown file."
   ]
  },
  {
   "cell_type": "code",
   "execution_count": null,
   "metadata": {
    "name": "problem_5_data",
    "tags": [
     "remove_cell"
    ]
   },
   "outputs": [],
   "source": [
    "set.seed(13)\n",
    "var1 <- rnorm(10, 25, 5)\n",
    "\n",
    "names <- letters[1:10]\n",
    "\n",
    "dat5 <- tibble(names, var1)"
   ]
  },
  {
   "cell_type": "code",
   "execution_count": null,
   "metadata": {
    "name": "problem_5",
    "tags": [
     "remove_input"
    ]
   },
   "outputs": [],
   "source": []
  },
  {
   "cell_type": "markdown",
   "metadata": {},
   "source": [
    "## Problem 6\n",
    "\n",
    "Create the figure in the solution for Problem 6 using the data included in the\n",
    "R Markdown file."
   ]
  },
  {
   "cell_type": "code",
   "execution_count": null,
   "metadata": {
    "name": "problem_6_data",
    "tags": [
     "remove_cell"
    ]
   },
   "outputs": [],
   "source": [
    "set.seed(8)\n",
    "fiction <- tibble(\n",
    "    Genre = rep(\"Fiction\", 5),\n",
    "    Time = seq(1:5),\n",
    "    Total = sample(1:10, 5)\n",
    ")\n",
    "\n",
    "set.seed(7)\n",
    "biography <- tibble(\n",
    "    Genre = rep(\"Biography\", 5),\n",
    "    Time = seq(1:5),\n",
    "    Total = sample(1:10, 5)\n",
    ")\n",
    "\n",
    "set.seed(9)\n",
    "mystery <- tibble(\n",
    "    Genre = rep(\"Mystery\", 5),\n",
    "    Time = seq(1:5),\n",
    "    Total = sample(1:10, 5)\n",
    ")\n",
    "\n",
    "books_checked_out <- bind_rows(fiction, biography, mystery)"
   ]
  },
  {
   "cell_type": "code",
   "execution_count": null,
   "metadata": {
    "name": "problem_6",
    "tags": [
     "remove_input"
    ]
   },
   "outputs": [],
   "source": []
  },
  {
   "cell_type": "markdown",
   "metadata": {},
   "source": [
    "## Problem 7\n",
    "\n",
    "Create the figure in the solution for Problem 7 using the data included in the\n",
    "R Markdown file."
   ]
  },
  {
   "cell_type": "code",
   "execution_count": null,
   "metadata": {
    "name": "problem_7_data",
    "tags": [
     "remove_cell"
    ]
   },
   "outputs": [],
   "source": [
    "books_checked_out2 <- books_checked_out %>%\n",
    "    filter(Time == 1 | Time == 5) %>%\n",
    "    pivot_wider(names_from = Time, values_from = Total) %>%\n",
    "    rename(Time1 = `1`, Time5 = `5`)"
   ]
  },
  {
   "cell_type": "code",
   "execution_count": null,
   "metadata": {
    "message": false,
    "name": "problem_7",
    "tags": [
     "remove_input"
    ]
   },
   "outputs": [],
   "source": []
  },
  {
   "cell_type": "markdown",
   "metadata": {},
   "source": [
    "## Problem 8\n",
    "\n",
    "Create the figure in the solution for Problem 8 using the data included in the\n",
    "R Markdown file."
   ]
  },
  {
   "cell_type": "code",
   "execution_count": null,
   "metadata": {
    "name": "problem_8_data",
    "tags": [
     "remove_cell"
    ]
   },
   "outputs": [],
   "source": [
    "pie_dat <- c(1, 2, 3, 4, 5)"
   ]
  },
  {
   "cell_type": "code",
   "execution_count": null,
   "metadata": {
    "name": "problem_8",
    "tags": [
     "remove_input"
    ]
   },
   "outputs": [],
   "source": [
    "my_color <- brewer.pal(5, \"Spectral\")"
   ]
  }
 ],
 "metadata": {
  "jupytext": {
   "formats": "ipynb,R:percent,Rmd"
  },
  "kernelspec": {
   "display_name": "R",
   "language": "R",
   "name": "ir"
  },
  "language_info": {
   "codemirror_mode": "r",
   "file_extension": ".r",
   "mimetype": "text/x-r-source",
   "name": "R",
   "pygments_lexer": "r",
   "version": "4.0.3"
  }
 },
 "nbformat": 4,
 "nbformat_minor": 4
}
